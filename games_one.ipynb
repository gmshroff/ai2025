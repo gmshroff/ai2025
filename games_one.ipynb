{
 "cells": [
  {
   "cell_type": "code",
   "execution_count": 1,
   "id": "d3144ab7",
   "metadata": {},
   "outputs": [],
   "source": [
    "import import_ipynb"
   ]
  },
  {
   "cell_type": "code",
   "execution_count": 2,
   "id": "88b4dc99",
   "metadata": {},
   "outputs": [
    {
     "name": "stdout",
     "output_type": "stream",
     "text": [
      "importing Jupyter notebook from game_envs.ipynb\n",
      "importing Jupyter notebook from game_algorithms.ipynb\n"
     ]
    }
   ],
   "source": [
    "from game_envs import NimEnv, TicTacToeEnv, NormalFormGameEnv\n",
    "from game_algorithms import minimax_pure, minimax_ab, minimax, alphabeta"
   ]
  },
  {
   "cell_type": "code",
   "execution_count": 3,
   "id": "7121d0e8",
   "metadata": {},
   "outputs": [
    {
     "name": "stdout",
     "output_type": "stream",
     "text": [
      "importing Jupyter notebook from mcts.ipynb\n"
     ]
    }
   ],
   "source": [
    "from mcts import MCTS"
   ]
  },
  {
   "cell_type": "code",
   "execution_count": 4,
   "id": "b788c2df",
   "metadata": {},
   "outputs": [],
   "source": [
    "def play(env,render=True):\n",
    "    print(\"--- Game Tree (ASCII) ---\")\n",
    "    if render: env.render_tree(env.initial_state())\n",
    "\n",
    "    print(\"\\n--- Pure Minimax ---\")\n",
    "    state = env.initial_state()\n",
    "    total_count = 0\n",
    "    env.render(state)\n",
    "    while True:\n",
    "        is_leaf, value = env.is_terminal(state)\n",
    "        if is_leaf:\n",
    "            print(\"Game over. Value (from Player 1 perspective):\", value)\n",
    "            break\n",
    "        score, move, total = minimax_pure(env, state)\n",
    "        total_count += total\n",
    "        print(f\"Player {state[1]} chooses move {move} (expected outcome {score}).\")\n",
    "        state = env.make_move(state, move)\n",
    "        env.render(state)\n",
    "    print(f\"Total moves explored in minimax: {total_count}\")\n",
    "\n",
    "    print(\"\\n--- Minimax with Alpha-Beta ---\")\n",
    "    state = env.initial_state()\n",
    "    total_count_ab = 0\n",
    "\n",
    "    env.render(state)\n",
    "    while True:\n",
    "        is_leaf, value = env.is_terminal(state)\n",
    "        if is_leaf:\n",
    "            print(\"Game over. Value (from Player 1 perspective):\", value)\n",
    "            break\n",
    "        score, move, total = minimax_ab(env, state)\n",
    "        total_count_ab += total\n",
    "        print(f\"Player {state[1]} chooses move {move} (expected outcome {score}).\")\n",
    "        state = env.make_move(state, move)\n",
    "        env.render(state)\n",
    "    print(f\"Total moves explored by alpha beta: {total_count_ab}\")"
   ]
  },
  {
   "cell_type": "code",
   "execution_count": 6,
   "id": "a3fbf901",
   "metadata": {},
   "outputs": [],
   "source": [
    "def play_mcts(env,mcts=None,n_simulations=1000,criterion='visits'):\n",
    "    if mcts is None: mcts = MCTS(env,criterion=criterion)\n",
    "    state = env.initial_state()\n",
    "    while True:\n",
    "        is_leaf, val = env.is_terminal(state)\n",
    "        if is_leaf:\n",
    "            print(\"Game over! Value:\", val)\n",
    "            break\n",
    "        move = mcts.search(state, n_simulations=n_simulations)\n",
    "        print(f\"MCTS chooses: {move}\")\n",
    "        state = env.make_move(state, move)\n",
    "        env.render(state)\n",
    "        mcts.update_root(move)\n",
    "    return mcts"
   ]
  },
  {
   "cell_type": "code",
   "execution_count": 7,
   "id": "04e18c8c",
   "metadata": {},
   "outputs": [],
   "source": [
    "env1 = NimEnv(total_stones=5, max_take=2)"
   ]
  },
  {
   "cell_type": "code",
   "execution_count": 8,
   "id": "b685e3b0",
   "metadata": {},
   "outputs": [],
   "source": [
    "mcts=MCTS(env1)"
   ]
  },
  {
   "cell_type": "code",
   "execution_count": 9,
   "id": "b6a9a114",
   "metadata": {},
   "outputs": [
    {
     "data": {
      "text/plain": [
       "1"
      ]
     },
     "execution_count": 9,
     "metadata": {},
     "output_type": "execute_result"
    }
   ],
   "source": [
    "mcts.search(env1.initial_state(),n_simulations=1)"
   ]
  },
  {
   "cell_type": "code",
   "execution_count": 10,
   "id": "d69bb5a6",
   "metadata": {},
   "outputs": [
    {
     "name": "stdout",
     "output_type": "stream",
     "text": [
      "Move=None, Player=1, Visits=1, ValueSum=1.00, Avg=1.00\n",
      "   Move=1, Player=-1, Visits=1, ValueSum=1.00, Avg=1.00\n"
     ]
    }
   ],
   "source": [
    "mcts.render_tree()"
   ]
  },
  {
   "cell_type": "code",
   "execution_count": null,
   "id": "84534a81",
   "metadata": {},
   "outputs": [],
   "source": [
    "mcts.original_root"
   ]
  },
  {
   "cell_type": "code",
   "execution_count": 11,
   "id": "19c026da",
   "metadata": {},
   "outputs": [
    {
     "name": "stdout",
     "output_type": "stream",
     "text": [
      "MCTS chooses: 1\n",
      "Stones: ● ● ● ● \n",
      "Player to move: Player 2\n",
      "MCTS chooses: 1\n",
      "Stones: ● ● ● \n",
      "Player to move: Player 1\n",
      "MCTS chooses: 2\n",
      "Stones: ● \n",
      "Player to move: Player 2\n",
      "Game over! Value: 1\n"
     ]
    }
   ],
   "source": [
    "mcts=play_mcts(env1)"
   ]
  },
  {
   "cell_type": "code",
   "execution_count": null,
   "id": "ee02583d",
   "metadata": {},
   "outputs": [],
   "source": [
    "play(env1,render=False)"
   ]
  },
  {
   "cell_type": "code",
   "execution_count": null,
   "id": "8ce44d14",
   "metadata": {},
   "outputs": [],
   "source": [
    "env1.render_tree(env1.initial_state())"
   ]
  },
  {
   "cell_type": "code",
   "execution_count": 12,
   "id": "d2912747",
   "metadata": {},
   "outputs": [],
   "source": [
    "env2=TicTacToeEnv()"
   ]
  },
  {
   "cell_type": "code",
   "execution_count": null,
   "id": "ae0d87ae",
   "metadata": {},
   "outputs": [],
   "source": [
    "env2.initial_state()"
   ]
  },
  {
   "cell_type": "code",
   "execution_count": null,
   "id": "cf3ee4be",
   "metadata": {},
   "outputs": [],
   "source": [
    "env2.render_tree(env2.initial_state(),max_depth=2)"
   ]
  },
  {
   "cell_type": "code",
   "execution_count": null,
   "id": "f48b4c30",
   "metadata": {},
   "outputs": [],
   "source": [
    "play(env2,render=False)"
   ]
  },
  {
   "cell_type": "code",
   "execution_count": 13,
   "id": "9b256341",
   "metadata": {},
   "outputs": [],
   "source": [
    "mcts=MCTS(env2)"
   ]
  },
  {
   "cell_type": "code",
   "execution_count": 14,
   "id": "7aeced65",
   "metadata": {},
   "outputs": [
    {
     "name": "stdout",
     "output_type": "stream",
     "text": [
      "MCTS chooses: (1, 1)\n",
      " | | \n",
      "-----\n",
      " |X| \n",
      "-----\n",
      " | | \n",
      "-----\n",
      "Next player: Player 2 (O)\n",
      "MCTS chooses: (2, 0)\n",
      " | | \n",
      "-----\n",
      " |X| \n",
      "-----\n",
      "O| | \n",
      "-----\n",
      "Next player: Player 1 (X)\n",
      "MCTS chooses: (1, 0)\n",
      " | | \n",
      "-----\n",
      "X|X| \n",
      "-----\n",
      "O| | \n",
      "-----\n",
      "Next player: Player 2 (O)\n",
      "MCTS chooses: (1, 2)\n",
      " | | \n",
      "-----\n",
      "X|X|O\n",
      "-----\n",
      "O| | \n",
      "-----\n",
      "Next player: Player 1 (X)\n",
      "MCTS chooses: (2, 1)\n",
      " | | \n",
      "-----\n",
      "X|X|O\n",
      "-----\n",
      "O|X| \n",
      "-----\n",
      "Next player: Player 2 (O)\n",
      "MCTS chooses: (0, 1)\n",
      " |O| \n",
      "-----\n",
      "X|X|O\n",
      "-----\n",
      "O|X| \n",
      "-----\n",
      "Next player: Player 1 (X)\n",
      "MCTS chooses: (2, 2)\n",
      " |O| \n",
      "-----\n",
      "X|X|O\n",
      "-----\n",
      "O|X|X\n",
      "-----\n",
      "Next player: Player 2 (O)\n",
      "MCTS chooses: (0, 0)\n",
      "O|O| \n",
      "-----\n",
      "X|X|O\n",
      "-----\n",
      "O|X|X\n",
      "-----\n",
      "Next player: Player 1 (X)\n",
      "MCTS chooses: (0, 2)\n",
      "O|O|X\n",
      "-----\n",
      "X|X|O\n",
      "-----\n",
      "O|X|X\n",
      "-----\n",
      "Next player: Player 2 (O)\n",
      "Game over! Value: 0\n"
     ]
    }
   ],
   "source": [
    "mcts=play_mcts(env2)"
   ]
  },
  {
   "cell_type": "code",
   "execution_count": null,
   "id": "32ba0283",
   "metadata": {},
   "outputs": [],
   "source": [
    "mcts.render_tree(depth=2)"
   ]
  },
  {
   "cell_type": "code",
   "execution_count": 19,
   "id": "4f2963f9",
   "metadata": {},
   "outputs": [],
   "source": [
    "leaf_values=[8,7,3,9,1,8,8,9,9,8,2,4,9,9,3,4]"
   ]
  },
  {
   "cell_type": "code",
   "execution_count": 20,
   "id": "c40786c4",
   "metadata": {},
   "outputs": [],
   "source": [
    "env3=NormalFormGameEnv(leaf_values=leaf_values)"
   ]
  },
  {
   "cell_type": "code",
   "execution_count": null,
   "id": "d06e6068",
   "metadata": {},
   "outputs": [],
   "source": [
    "env3.render(env3.initial_state())"
   ]
  },
  {
   "cell_type": "code",
   "execution_count": null,
   "id": "151649f2",
   "metadata": {},
   "outputs": [],
   "source": [
    "env3.leaf_values"
   ]
  },
  {
   "cell_type": "code",
   "execution_count": null,
   "id": "5c03ff39",
   "metadata": {},
   "outputs": [],
   "source": [
    "minimax_pure(env3,env3.initial_state())"
   ]
  },
  {
   "cell_type": "code",
   "execution_count": null,
   "id": "7a826abe",
   "metadata": {},
   "outputs": [],
   "source": [
    "minimax_ab(env3,env3.initial_state())"
   ]
  },
  {
   "cell_type": "code",
   "execution_count": null,
   "id": "d4a047e3",
   "metadata": {},
   "outputs": [],
   "source": [
    "play(env3)"
   ]
  },
  {
   "cell_type": "code",
   "execution_count": 25,
   "id": "44475a43",
   "metadata": {},
   "outputs": [],
   "source": [
    "mcts=None"
   ]
  },
  {
   "cell_type": "code",
   "execution_count": 27,
   "id": "8daac6e5",
   "metadata": {},
   "outputs": [
    {
     "name": "stdout",
     "output_type": "stream",
     "text": [
      "MCTS chooses: 1\n",
      "Path: 1 (depth=1), Player -1\n",
      "MCTS chooses: 0\n",
      "Path: 10 (depth=2), Player 1\n",
      "MCTS chooses: 0\n",
      "Path: 100 (depth=3), Player -1\n",
      "MCTS chooses: 1\n",
      "Path: 1001 (depth=4), Player 1\n",
      "Leaf value: 8\n",
      "Game over! Value: 8\n"
     ]
    }
   ],
   "source": [
    "mcts=play_mcts(env3,mcts,criterion='visits')"
   ]
  },
  {
   "cell_type": "code",
   "execution_count": null,
   "id": "abfe01c8",
   "metadata": {},
   "outputs": [],
   "source": [
    "mcts.criteron='visits'"
   ]
  },
  {
   "cell_type": "code",
   "execution_count": null,
   "id": "2e090058",
   "metadata": {},
   "outputs": [],
   "source": [
    "mcts.render_tree(depth=6)"
   ]
  },
  {
   "cell_type": "code",
   "execution_count": null,
   "id": "575671b5",
   "metadata": {},
   "outputs": [],
   "source": [
    "env3.render_tree(env3.initial_state())"
   ]
  },
  {
   "cell_type": "code",
   "execution_count": null,
   "id": "1bdb6c36",
   "metadata": {},
   "outputs": [],
   "source": [
    "env3.leaf_values"
   ]
  },
  {
   "cell_type": "code",
   "execution_count": 28,
   "id": "c2669a65",
   "metadata": {},
   "outputs": [],
   "source": [
    "env4=NormalFormGameEnv(value_range=[1,5])"
   ]
  },
  {
   "cell_type": "code",
   "execution_count": null,
   "id": "e4163889",
   "metadata": {},
   "outputs": [],
   "source": [
    "minimax_pure(env4,env4.initial_state())"
   ]
  },
  {
   "cell_type": "code",
   "execution_count": null,
   "id": "3a7d02fe",
   "metadata": {},
   "outputs": [],
   "source": [
    "minimax_ab(env4,env4.initial_state())"
   ]
  },
  {
   "cell_type": "code",
   "execution_count": null,
   "id": "7ba9b2d9",
   "metadata": {},
   "outputs": [],
   "source": []
  }
 ],
 "metadata": {
  "kernelspec": {
   "display_name": "py310",
   "language": "python",
   "name": "python3"
  },
  "language_info": {
   "codemirror_mode": {
    "name": "ipython",
    "version": 3
   },
   "file_extension": ".py",
   "mimetype": "text/x-python",
   "name": "python",
   "nbconvert_exporter": "python",
   "pygments_lexer": "ipython3",
   "version": "3.10.14"
  }
 },
 "nbformat": 4,
 "nbformat_minor": 5
}
