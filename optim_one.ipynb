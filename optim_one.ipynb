{
 "cells": [
  {
   "cell_type": "code",
   "execution_count": 1,
   "id": "1d774402",
   "metadata": {},
   "outputs": [],
   "source": [
    "import import_ipynb"
   ]
  },
  {
   "cell_type": "code",
   "execution_count": 2,
   "id": "0b34c14e",
   "metadata": {},
   "outputs": [
    {
     "name": "stdout",
     "output_type": "stream",
     "text": [
      "importing Jupyter notebook from ridergraph_problem.ipynb\n",
      "importing Jupyter notebook from jobshop_problem.ipynb\n",
      "importing Jupyter notebook from timetable_problem.ipynb\n"
     ]
    }
   ],
   "source": [
    "from ridergraph_problem import RiderAssignmentEnv\n",
    "from jobshop_problem import JobShopEnv\n",
    "from timetable_problem import ExamTimetableEnv"
   ]
  },
  {
   "cell_type": "code",
   "execution_count": 3,
   "id": "9595c833",
   "metadata": {},
   "outputs": [
    {
     "name": "stdout",
     "output_type": "stream",
     "text": [
      "importing Jupyter notebook from optim_algorithms.ipynb\n"
     ]
    }
   ],
   "source": [
    "from optim_algorithms import beam_search, simulated_annealing, genetic_algorithm"
   ]
  },
  {
   "cell_type": "code",
   "execution_count": 4,
   "id": "c7968bc8",
   "metadata": {},
   "outputs": [
    {
     "name": "stdout",
     "output_type": "stream",
     "text": [
      "cost(all R1) expected 9 -> 9.0\n"
     ]
    }
   ],
   "source": [
    "# Rider–Order assignment (Beam Search)\n",
    "graph = {\n",
    "  \"A\":{\"B\":2,\"C\":4},\n",
    "  \"B\":{\"A\":2,\"C\":1},\n",
    "  \"C\":{\"A\":4,\"B\":1,\"D\":2,\"E\":3},\n",
    "  \"D\":{\"C\":2,\"E\":2,\"F\":3},\n",
    "  \"E\":{\"C\":3,\"D\":2,\"F\":2},\n",
    "  \"F\":{\"D\":3,\"E\":2}\n",
    "}\n",
    "\n",
    "riders = {\"R1\":\"A\", \"R2\":\"D\"}\n",
    "\n",
    "orders = {\n",
    "  \"O1\":(\"B\",\"E\"),\n",
    "  \"O2\":(\"C\",\"F\"),\n",
    "  \"O3\":(\"A\",\"D\")\n",
    "}\n",
    "\n",
    "env1 = RiderAssignmentEnv(graph, riders, orders, capacity=3)\n",
    "\n",
    "# two candidate states:\n",
    "s_all_R1 = {\"R1\":[\"O1\",\"O2\",\"O3\"], \"R2\":[]}\n",
    "\n",
    "print(\"cost(all R1) expected 9 ->\", env1.cost(s_all_R1))"
   ]
  },
  {
   "cell_type": "code",
   "execution_count": null,
   "id": "d8e31521",
   "metadata": {},
   "outputs": [],
   "source": [
    "env1.initial_state()"
   ]
  },
  {
   "cell_type": "code",
   "execution_count": null,
   "id": "0053feff",
   "metadata": {},
   "outputs": [],
   "source": [
    "env1._all_pairs"
   ]
  },
  {
   "cell_type": "code",
   "execution_count": null,
   "id": "3fd8a2e4",
   "metadata": {},
   "outputs": [],
   "source": [
    "env1.cost(env1.initial_state())"
   ]
  },
  {
   "cell_type": "code",
   "execution_count": null,
   "id": "e12ad1ad",
   "metadata": {},
   "outputs": [],
   "source": [
    "env1.neighbours(env1.initial_state())"
   ]
  },
  {
   "cell_type": "code",
   "execution_count": null,
   "id": "7244eb81",
   "metadata": {},
   "outputs": [],
   "source": [
    "rider_soln=beam_search(env1, k=3, max_depth=4)"
   ]
  },
  {
   "cell_type": "code",
   "execution_count": null,
   "id": "ccc4eaf9",
   "metadata": {},
   "outputs": [],
   "source": [
    "rider_soln"
   ]
  },
  {
   "cell_type": "code",
   "execution_count": null,
   "id": "2fde29f4",
   "metadata": {},
   "outputs": [],
   "source": [
    "env1A=RiderAssignmentEnv.random_problem(num_nodes=6, num_edges=8, num_riders=3, num_orders=5,\n",
    "                       capacity=10, weight_range=(1,5))"
   ]
  },
  {
   "cell_type": "code",
   "execution_count": null,
   "id": "b679356d",
   "metadata": {},
   "outputs": [],
   "source": [
    "env1A.initial_state()"
   ]
  },
  {
   "cell_type": "code",
   "execution_count": null,
   "id": "27a0f0bc",
   "metadata": {},
   "outputs": [],
   "source": [
    "rider_soln_A=beam_search(env1A)"
   ]
  },
  {
   "cell_type": "code",
   "execution_count": null,
   "id": "4ab757b3",
   "metadata": {},
   "outputs": [],
   "source": [
    "rider_soln_A"
   ]
  },
  {
   "cell_type": "code",
   "execution_count": null,
   "id": "19bda94c",
   "metadata": {},
   "outputs": [],
   "source": [
    "simulated_annealing(env1)"
   ]
  },
  {
   "cell_type": "code",
   "execution_count": null,
   "id": "d24d99ac",
   "metadata": {},
   "outputs": [],
   "source": [
    "simulated_annealing(env1A)"
   ]
  },
  {
   "cell_type": "code",
   "execution_count": null,
   "id": "503d8755",
   "metadata": {},
   "outputs": [],
   "source": [
    "# Exam Timetabling (SA)\n",
    "courses = {\"C1\":25,\"C2\":20,\"C3\":15,\"C4\":10}\n",
    "rooms = [(\"R1\",30),(\"R2\",20)]\n",
    "conflicts = {(\"C1\",\"C2\"):10,(\"C2\",\"C3\"):5,(\"C3\",\"C4\"):3}\n",
    "env2 = ExamTimetableEnv(courses, rooms, conflicts)\n",
    "print(\"\\n=== Simulated Annealing ===\")\n",
    "tt_soln=simulated_annealing(env2, T=5.0, alpha=0.85, iters=30)\n",
    "print(tt_soln)"
   ]
  },
  {
   "cell_type": "code",
   "execution_count": null,
   "id": "7e80f86c",
   "metadata": {},
   "outputs": [],
   "source": [
    "beam_search(env2)"
   ]
  },
  {
   "cell_type": "code",
   "execution_count": null,
   "id": "6a30f085",
   "metadata": {},
   "outputs": [],
   "source": [
    "simulated_annealing(env2)"
   ]
  },
  {
   "cell_type": "code",
   "execution_count": 11,
   "id": "814cf91e",
   "metadata": {},
   "outputs": [
    {
     "name": "stdout",
     "output_type": "stream",
     "text": [
      "Initial state cost: 270\n",
      "Depth 1:\n",
      "  Beam 1: cost=80\n",
      "  Beam 2: cost=150\n",
      "Depth 2:\n",
      "  Beam 1: cost=35\n",
      "  Beam 2: cost=60\n",
      "Depth 3:\n",
      "  Beam 1: cost=80\n",
      "  Beam 2: cost=80\n",
      "Depth 4:\n",
      "  Beam 1: cost=35\n",
      "  Beam 2: cost=35\n",
      "Depth 5:\n",
      "  Beam 1: cost=80\n",
      "  Beam 2: cost=80\n",
      "Depth 6:\n",
      "  Beam 1: cost=35\n",
      "  Beam 2: cost=35\n",
      "Depth 7:\n",
      "  Beam 1: cost=80\n",
      "  Beam 2: cost=80\n",
      "Depth 8:\n",
      "  Beam 1: cost=35\n",
      "  Beam 2: cost=35\n",
      "Depth 9:\n",
      "  Beam 1: cost=80\n",
      "  Beam 2: cost=80\n",
      "Depth 10:\n",
      "  Beam 1: cost=35\n",
      "  Beam 2: cost=35\n",
      "({'C1': ('T1', 'R1'), 'C2': ('T2', 'R2'), 'C3': ('T2', 'R1'), 'C4': ('T1', 'R2')}, 60)\n",
      "({'C1': ('T1', 'R1'), 'C2': ('T2', 'R1'), 'C3': ('T2', 'R2'), 'C4': ('T1', 'R2')}, 35)\n"
     ]
    }
   ],
   "source": [
    "# env2A = ExamTimetableEnv.random_instance(n_courses=4, n_rooms=2)\n",
    "# print(env2A.courses,env2A.rooms,env2A.conflicts,env2A.timeslots)\n",
    "tt_soln=simulated_annealing(env2A, T=5.0, alpha=0.85, iters=20,verbose=False)\n",
    "tt_soln_b=beam_search(env2A)\n",
    "print(tt_soln)\n",
    "print(tt_soln_b)"
   ]
  },
  {
   "cell_type": "code",
   "execution_count": null,
   "id": "d91d0519",
   "metadata": {},
   "outputs": [],
   "source": [
    "simulated_annealing(env2A)"
   ]
  },
  {
   "cell_type": "code",
   "execution_count": null,
   "id": "7107a9a8",
   "metadata": {},
   "outputs": [],
   "source": [
    "beam_search(env2A)"
   ]
  },
  {
   "cell_type": "code",
   "execution_count": null,
   "id": "c849082a",
   "metadata": {},
   "outputs": [],
   "source": [
    "# Job-Shop Scheduling (GA)\n",
    "jobs = {\n",
    "    \"J1\": [(1,3),(2,2)],\n",
    "    \"J2\": [(2,2),(1,3)],\n",
    "    \"J3\": [(1,2),(2,4)],\n",
    "    \"J4\": [(2,3),(1,1)]\n",
    "}\n",
    "env3 = JobShopEnv(jobs)"
   ]
  },
  {
   "cell_type": "code",
   "execution_count": null,
   "id": "2bdd9bc3",
   "metadata": {},
   "outputs": [],
   "source": [
    "env3.initial_state()"
   ]
  },
  {
   "cell_type": "code",
   "execution_count": null,
   "id": "ee60f021",
   "metadata": {},
   "outputs": [],
   "source": [
    "env3.cost(env3.initial_state())"
   ]
  },
  {
   "cell_type": "code",
   "execution_count": null,
   "id": "44e253cc",
   "metadata": {},
   "outputs": [],
   "source": [
    "beam_search(env3)"
   ]
  },
  {
   "cell_type": "code",
   "execution_count": null,
   "id": "7e0df638",
   "metadata": {},
   "outputs": [],
   "source": [
    "env3.initial_state()"
   ]
  },
  {
   "cell_type": "code",
   "execution_count": null,
   "id": "56da9d61",
   "metadata": {},
   "outputs": [],
   "source": [
    "simulated_annealing(env3)"
   ]
  },
  {
   "cell_type": "code",
   "execution_count": null,
   "id": "2b05814c",
   "metadata": {},
   "outputs": [],
   "source": [
    "genetic_algorithm(env3)"
   ]
  },
  {
   "cell_type": "code",
   "execution_count": null,
   "id": "f05cbcdf",
   "metadata": {},
   "outputs": [],
   "source": [
    "env3A = JobShopEnv.random_instance(n_jobs=30, n_machines=5)\n",
    "print(env3A.jobs)"
   ]
  },
  {
   "cell_type": "code",
   "execution_count": null,
   "id": "b0fd202c",
   "metadata": {},
   "outputs": [],
   "source": [
    "beam_search(env3A)"
   ]
  },
  {
   "cell_type": "code",
   "execution_count": null,
   "id": "e9f3c370",
   "metadata": {},
   "outputs": [],
   "source": [
    "simulated_annealing(env3A)"
   ]
  },
  {
   "cell_type": "code",
   "execution_count": null,
   "id": "b09a0281",
   "metadata": {},
   "outputs": [],
   "source": [
    "genetic_algorithm(env3A, pop_size=8, gens=10,verbose=True)"
   ]
  },
  {
   "cell_type": "code",
   "execution_count": null,
   "id": "94d75c8e",
   "metadata": {},
   "outputs": [],
   "source": []
  }
 ],
 "metadata": {
  "kernelspec": {
   "display_name": "py310",
   "language": "python",
   "name": "python3"
  },
  "language_info": {
   "codemirror_mode": {
    "name": "ipython",
    "version": 3
   },
   "file_extension": ".py",
   "mimetype": "text/x-python",
   "name": "python",
   "nbconvert_exporter": "python",
   "pygments_lexer": "ipython3",
   "version": "3.10.14"
  }
 },
 "nbformat": 4,
 "nbformat_minor": 5
}
